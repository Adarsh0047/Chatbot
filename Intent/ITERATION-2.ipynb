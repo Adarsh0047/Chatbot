{
 "cells": [
  {
   "cell_type": "code",
   "execution_count": 1,
   "metadata": {},
   "outputs": [],
   "source": [
    "from google.cloud import dialogflow\n",
    "from google.api_core.exceptions import InvalidArgument"
   ]
  },
  {
   "cell_type": "code",
   "execution_count": 4,
   "metadata": {},
   "outputs": [
    {
     "name": "stdout",
     "output_type": "stream",
     "text": [
      "Query text: experience required for a software engineer\n",
      "Detected intent: experience_required (confidence: 0.8387592434883118)\n",
      "\n",
      "Detected entity: company_name = \n",
      "Detected entity: location = \n",
      "Detected entity: jobtitle = ['software engineer']\n",
      "Fulfillment text: \n",
      "\n"
     ]
    }
   ],
   "source": [
    "\n",
    "import os\n",
    "DIALOG_FLOW_PROJECT_ID = \"tribal-archery-386911\"\n",
    "DIALOGFLOW_LANGUAGE_CODE = \"en\"\n",
    "os.environ[\"GOOGLE_APPLICATION_CREDENTIALS\"] = 'private_key.json'\n",
    "text = input()\n",
    "text_input = dialogflow.TextInput(text=text, language_code=DIALOGFLOW_LANGUAGE_CODE)\n",
    "SESSION_ID = 'me'\n",
    "session_client = dialogflow.SessionsClient()\n",
    "session = session_client.session_path(DIALOG_FLOW_PROJECT_ID, SESSION_ID)\n",
    "query_input = dialogflow.QueryInput(text=text_input)\n",
    "try:\n",
    "  response = session_client.detect_intent(request={\"session\": session, \"query_input\": query_input})\n",
    "except InvalidArgument:\n",
    "  raise\n",
    "\n",
    "print(\"Query text: {}\".format(response.query_result.query_text))\n",
    "print(\"Detected intent: {} (confidence: {})\\n\".format(response.query_result.intent.display_name,\n",
    "                                                       response.query_result.intent_detection_confidence))\n",
    "for entity in response.query_result.parameters:\n",
    "  print(\"Detected entity: {} = {}\".format(entity, response.query_result.parameters[entity]))\n",
    "\n",
    "print(\"Fulfillment text: {}\\n\".format(response.query_result.fulfillment_text))\n"
   ]
  },
  {
   "cell_type": "code",
   "execution_count": null,
   "metadata": {},
   "outputs": [],
   "source": []
  }
 ],
 "metadata": {
  "kernelspec": {
   "display_name": "Python 3",
   "language": "python",
   "name": "python3"
  },
  "language_info": {
   "codemirror_mode": {
    "name": "ipython",
    "version": 3
   },
   "file_extension": ".py",
   "mimetype": "text/x-python",
   "name": "python",
   "nbconvert_exporter": "python",
   "pygments_lexer": "ipython3",
   "version": "3.11.1"
  },
  "orig_nbformat": 4
 },
 "nbformat": 4,
 "nbformat_minor": 2
}
