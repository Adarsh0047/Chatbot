{
 "cells": [
  {
   "cell_type": "code",
   "execution_count": 1,
   "metadata": {},
   "outputs": [],
   "source": [
    "from google.cloud import dialogflow\n",
    "from google.api_core.exceptions import InvalidArgument\n",
    "import os"
   ]
  },
  {
   "cell_type": "code",
   "execution_count": 2,
   "metadata": {},
   "outputs": [
    {
     "ename": "InvalidArgument",
     "evalue": "400 Input text not set.",
     "output_type": "error",
     "traceback": [
      "\u001b[1;31m---------------------------------------------------------------------------\u001b[0m",
      "\u001b[1;31m_InactiveRpcError\u001b[0m                         Traceback (most recent call last)",
      "File \u001b[1;32mc:\\Users\\adars\\miniconda3\\envs\\midlar\\Lib\\site-packages\\google\\api_core\\grpc_helpers.py:65\u001b[0m, in \u001b[0;36m_wrap_unary_errors.<locals>.error_remapped_callable\u001b[1;34m(*args, **kwargs)\u001b[0m\n\u001b[0;32m     64\u001b[0m \u001b[39mtry\u001b[39;00m:\n\u001b[1;32m---> 65\u001b[0m     \u001b[39mreturn\u001b[39;00m callable_(\u001b[39m*\u001b[39margs, \u001b[39m*\u001b[39m\u001b[39m*\u001b[39mkwargs)\n\u001b[0;32m     66\u001b[0m \u001b[39mexcept\u001b[39;00m grpc\u001b[39m.\u001b[39mRpcError \u001b[39mas\u001b[39;00m exc:\n",
      "File \u001b[1;32mc:\\Users\\adars\\miniconda3\\envs\\midlar\\Lib\\site-packages\\grpc\\_channel.py:1030\u001b[0m, in \u001b[0;36m_UnaryUnaryMultiCallable.__call__\u001b[1;34m(self, request, timeout, metadata, credentials, wait_for_ready, compression)\u001b[0m\n\u001b[0;32m   1028\u001b[0m state, call, \u001b[39m=\u001b[39m \u001b[39mself\u001b[39m\u001b[39m.\u001b[39m_blocking(request, timeout, metadata, credentials,\n\u001b[0;32m   1029\u001b[0m                               wait_for_ready, compression)\n\u001b[1;32m-> 1030\u001b[0m \u001b[39mreturn\u001b[39;00m _end_unary_response_blocking(state, call, \u001b[39mFalse\u001b[39;00m, \u001b[39mNone\u001b[39;00m)\n",
      "File \u001b[1;32mc:\\Users\\adars\\miniconda3\\envs\\midlar\\Lib\\site-packages\\grpc\\_channel.py:910\u001b[0m, in \u001b[0;36m_end_unary_response_blocking\u001b[1;34m(state, call, with_call, deadline)\u001b[0m\n\u001b[0;32m    909\u001b[0m \u001b[39melse\u001b[39;00m:\n\u001b[1;32m--> 910\u001b[0m     \u001b[39mraise\u001b[39;00m _InactiveRpcError(state)\n",
      "\u001b[1;31m_InactiveRpcError\u001b[0m: <_InactiveRpcError of RPC that terminated with:\n\tstatus = StatusCode.INVALID_ARGUMENT\n\tdetails = \"Input text not set.\"\n\tdebug_error_string = \"UNKNOWN:Error received from peer ipv4:142.250.196.42:443 {created_time:\"2023-05-22T12:21:53.8664747+00:00\", grpc_status:3, grpc_message:\"Input text not set.\"}\"\n>",
      "\nThe above exception was the direct cause of the following exception:\n",
      "\u001b[1;31mInvalidArgument\u001b[0m                           Traceback (most recent call last)",
      "Cell \u001b[1;32mIn[2], line 12\u001b[0m\n\u001b[0;32m     10\u001b[0m query_input \u001b[39m=\u001b[39m dialogflow\u001b[39m.\u001b[39mQueryInput(text\u001b[39m=\u001b[39mtext_input)\n\u001b[0;32m     11\u001b[0m \u001b[39mtry\u001b[39;00m:\n\u001b[1;32m---> 12\u001b[0m   response \u001b[39m=\u001b[39m session_client\u001b[39m.\u001b[39mdetect_intent(request\u001b[39m=\u001b[39m{\u001b[39m\"\u001b[39m\u001b[39msession\u001b[39m\u001b[39m\"\u001b[39m: session, \u001b[39m\"\u001b[39m\u001b[39mquery_input\u001b[39m\u001b[39m\"\u001b[39m: query_input})\n\u001b[0;32m     13\u001b[0m \u001b[39mexcept\u001b[39;00m InvalidArgument:\n\u001b[0;32m     14\u001b[0m   \u001b[39mraise\u001b[39;00m\n",
      "File \u001b[1;32mc:\\Users\\adars\\miniconda3\\envs\\midlar\\Lib\\site-packages\\google\\cloud\\dialogflow_v2\\services\\sessions\\client.py:655\u001b[0m, in \u001b[0;36mSessionsClient.detect_intent\u001b[1;34m(self, request, session, query_input, retry, timeout, metadata)\u001b[0m\n\u001b[0;32m    650\u001b[0m metadata \u001b[39m=\u001b[39m \u001b[39mtuple\u001b[39m(metadata) \u001b[39m+\u001b[39m (\n\u001b[0;32m    651\u001b[0m     gapic_v1\u001b[39m.\u001b[39mrouting_header\u001b[39m.\u001b[39mto_grpc_metadata(((\u001b[39m\"\u001b[39m\u001b[39msession\u001b[39m\u001b[39m\"\u001b[39m, request\u001b[39m.\u001b[39msession),)),\n\u001b[0;32m    652\u001b[0m )\n\u001b[0;32m    654\u001b[0m \u001b[39m# Send the request.\u001b[39;00m\n\u001b[1;32m--> 655\u001b[0m response \u001b[39m=\u001b[39m rpc(\n\u001b[0;32m    656\u001b[0m     request,\n\u001b[0;32m    657\u001b[0m     retry\u001b[39m=\u001b[39mretry,\n\u001b[0;32m    658\u001b[0m     timeout\u001b[39m=\u001b[39mtimeout,\n\u001b[0;32m    659\u001b[0m     metadata\u001b[39m=\u001b[39mmetadata,\n\u001b[0;32m    660\u001b[0m )\n\u001b[0;32m    662\u001b[0m \u001b[39m# Done; return the response.\u001b[39;00m\n\u001b[0;32m    663\u001b[0m \u001b[39mreturn\u001b[39;00m response\n",
      "File \u001b[1;32mc:\\Users\\adars\\miniconda3\\envs\\midlar\\Lib\\site-packages\\google\\api_core\\gapic_v1\\method.py:113\u001b[0m, in \u001b[0;36m_GapicCallable.__call__\u001b[1;34m(self, timeout, retry, *args, **kwargs)\u001b[0m\n\u001b[0;32m    110\u001b[0m     metadata\u001b[39m.\u001b[39mextend(\u001b[39mself\u001b[39m\u001b[39m.\u001b[39m_metadata)\n\u001b[0;32m    111\u001b[0m     kwargs[\u001b[39m\"\u001b[39m\u001b[39mmetadata\u001b[39m\u001b[39m\"\u001b[39m] \u001b[39m=\u001b[39m metadata\n\u001b[1;32m--> 113\u001b[0m \u001b[39mreturn\u001b[39;00m wrapped_func(\u001b[39m*\u001b[39margs, \u001b[39m*\u001b[39m\u001b[39m*\u001b[39mkwargs)\n",
      "File \u001b[1;32mc:\\Users\\adars\\miniconda3\\envs\\midlar\\Lib\\site-packages\\google\\api_core\\retry.py:349\u001b[0m, in \u001b[0;36mRetry.__call__.<locals>.retry_wrapped_func\u001b[1;34m(*args, **kwargs)\u001b[0m\n\u001b[0;32m    345\u001b[0m target \u001b[39m=\u001b[39m functools\u001b[39m.\u001b[39mpartial(func, \u001b[39m*\u001b[39margs, \u001b[39m*\u001b[39m\u001b[39m*\u001b[39mkwargs)\n\u001b[0;32m    346\u001b[0m sleep_generator \u001b[39m=\u001b[39m exponential_sleep_generator(\n\u001b[0;32m    347\u001b[0m     \u001b[39mself\u001b[39m\u001b[39m.\u001b[39m_initial, \u001b[39mself\u001b[39m\u001b[39m.\u001b[39m_maximum, multiplier\u001b[39m=\u001b[39m\u001b[39mself\u001b[39m\u001b[39m.\u001b[39m_multiplier\n\u001b[0;32m    348\u001b[0m )\n\u001b[1;32m--> 349\u001b[0m \u001b[39mreturn\u001b[39;00m retry_target(\n\u001b[0;32m    350\u001b[0m     target,\n\u001b[0;32m    351\u001b[0m     \u001b[39mself\u001b[39m\u001b[39m.\u001b[39m_predicate,\n\u001b[0;32m    352\u001b[0m     sleep_generator,\n\u001b[0;32m    353\u001b[0m     \u001b[39mself\u001b[39m\u001b[39m.\u001b[39m_timeout,\n\u001b[0;32m    354\u001b[0m     on_error\u001b[39m=\u001b[39mon_error,\n\u001b[0;32m    355\u001b[0m )\n",
      "File \u001b[1;32mc:\\Users\\adars\\miniconda3\\envs\\midlar\\Lib\\site-packages\\google\\api_core\\retry.py:191\u001b[0m, in \u001b[0;36mretry_target\u001b[1;34m(target, predicate, sleep_generator, timeout, on_error, **kwargs)\u001b[0m\n\u001b[0;32m    189\u001b[0m \u001b[39mfor\u001b[39;00m sleep \u001b[39min\u001b[39;00m sleep_generator:\n\u001b[0;32m    190\u001b[0m     \u001b[39mtry\u001b[39;00m:\n\u001b[1;32m--> 191\u001b[0m         \u001b[39mreturn\u001b[39;00m target()\n\u001b[0;32m    193\u001b[0m     \u001b[39m# pylint: disable=broad-except\u001b[39;00m\n\u001b[0;32m    194\u001b[0m     \u001b[39m# This function explicitly must deal with broad exceptions.\u001b[39;00m\n\u001b[0;32m    195\u001b[0m     \u001b[39mexcept\u001b[39;00m \u001b[39mException\u001b[39;00m \u001b[39mas\u001b[39;00m exc:\n",
      "File \u001b[1;32mc:\\Users\\adars\\miniconda3\\envs\\midlar\\Lib\\site-packages\\google\\api_core\\timeout.py:120\u001b[0m, in \u001b[0;36mTimeToDeadlineTimeout.__call__.<locals>.func_with_timeout\u001b[1;34m(*args, **kwargs)\u001b[0m\n\u001b[0;32m    117\u001b[0m     \u001b[39m# Avoid setting negative timeout\u001b[39;00m\n\u001b[0;32m    118\u001b[0m     kwargs[\u001b[39m\"\u001b[39m\u001b[39mtimeout\u001b[39m\u001b[39m\"\u001b[39m] \u001b[39m=\u001b[39m \u001b[39mmax\u001b[39m(\u001b[39m0\u001b[39m, \u001b[39mself\u001b[39m\u001b[39m.\u001b[39m_timeout \u001b[39m-\u001b[39m time_since_first_attempt)\n\u001b[1;32m--> 120\u001b[0m \u001b[39mreturn\u001b[39;00m func(\u001b[39m*\u001b[39margs, \u001b[39m*\u001b[39m\u001b[39m*\u001b[39mkwargs)\n",
      "File \u001b[1;32mc:\\Users\\adars\\miniconda3\\envs\\midlar\\Lib\\site-packages\\google\\api_core\\grpc_helpers.py:67\u001b[0m, in \u001b[0;36m_wrap_unary_errors.<locals>.error_remapped_callable\u001b[1;34m(*args, **kwargs)\u001b[0m\n\u001b[0;32m     65\u001b[0m     \u001b[39mreturn\u001b[39;00m callable_(\u001b[39m*\u001b[39margs, \u001b[39m*\u001b[39m\u001b[39m*\u001b[39mkwargs)\n\u001b[0;32m     66\u001b[0m \u001b[39mexcept\u001b[39;00m grpc\u001b[39m.\u001b[39mRpcError \u001b[39mas\u001b[39;00m exc:\n\u001b[1;32m---> 67\u001b[0m     \u001b[39mraise\u001b[39;00m exceptions\u001b[39m.\u001b[39mfrom_grpc_error(exc) \u001b[39mfrom\u001b[39;00m \u001b[39mexc\u001b[39;00m\n",
      "\u001b[1;31mInvalidArgument\u001b[0m: 400 Input text not set."
     ]
    }
   ],
   "source": [
    "import os\n",
    "DIALOG_FLOW_PROJECT_ID = \"tribal-archery-386911\"\n",
    "DIALOGFLOW_LANGUAGE_CODE = \"en\"\n",
    "os.environ[\"GOOGLE_APPLICATION_CREDENTIALS\"] = 'private_key.json'\n",
    "text = input()\n",
    "text_input = dialogflow.TextInput(text=text, language_code=DIALOGFLOW_LANGUAGE_CODE)\n",
    "SESSION_ID = 'me'\n",
    "session_client = dialogflow.SessionsClient()\n",
    "session = session_client.session_path(DIALOG_FLOW_PROJECT_ID, SESSION_ID)\n",
    "query_input = dialogflow.QueryInput(text=text_input)\n",
    "try:\n",
    "  response = session_client.detect_intent(request={\"session\": session, \"query_input\": query_input})\n",
    "except InvalidArgument:\n",
    "  raise\n",
    "\n",
    "print(\"Query text: {}\".format(response.query_result.query_text))\n",
    "print(\"Detected intent: {} (confidence: {})\\n\".format(response.query_result.intent.display_name,\n",
    "                                                       response.query_result.intent_detection_confidence))\n",
    "for entity in response.query_result.parameters:\n",
    "  print(\"Detected entity: {} = {}\".format(entity, response.query_result.parameters[entity]))\n",
    "  if entity == \"jobtitle\":\n",
    "    job_title = response.query_result.parameters[entity]\n",
    "  if entity == \"location\":\n",
    "    location = response.query_result.parameters[entity]\n",
    "if job_title == '':\n",
    "  for entity in response.query_result.parameters:\n",
    "      if entity == \"skills\":\n",
    "        job_title = response.query_result.parameters[entity]\n",
    "\n",
    "print(\"Fulfillment text: {}\\n\".format(response.query_result.fulfillment_text))\n"
   ]
  },
  {
   "cell_type": "code",
   "execution_count": 11,
   "metadata": {},
   "outputs": [
    {
     "data": {
      "text/plain": [
       "''"
      ]
     },
     "execution_count": 11,
     "metadata": {},
     "output_type": "execute_result"
    }
   ],
   "source": [
    "location"
   ]
  },
  {
   "cell_type": "code",
   "execution_count": 12,
   "metadata": {},
   "outputs": [
    {
     "data": {
      "text/plain": [
       "['communication']"
      ]
     },
     "execution_count": 12,
     "metadata": {},
     "output_type": "execute_result"
    }
   ],
   "source": [
    "job_title"
   ]
  },
  {
   "cell_type": "code",
   "execution_count": 13,
   "metadata": {},
   "outputs": [
    {
     "data": {
      "text/plain": [
       "''"
      ]
     },
     "execution_count": 13,
     "metadata": {},
     "output_type": "execute_result"
    }
   ],
   "source": [
    "location"
   ]
  },
  {
   "cell_type": "code",
   "execution_count": 2,
   "metadata": {},
   "outputs": [],
   "source": [
    "from n_gram import skill_dict, title_dict\n",
    "from n_gram import *"
   ]
  },
  {
   "cell_type": "code",
   "execution_count": 7,
   "metadata": {},
   "outputs": [
    {
     "name": "stdout",
     "output_type": "stream",
     "text": [
      "dict_keys(['Mallow Technologies'])\n",
      "dict_keys(['Ultrafly Solutions private limited'])\n",
      "dict_keys(['Ultrafly Solutions private limited'])\n",
      "dict_keys(['Sharadha Terry Products Private Limited'])\n",
      "dict_keys(['VMax Wellness'])\n",
      "dict_keys(['Unusual Hire'])\n"
     ]
    }
   ],
   "source": [
    "for comp in skill_dict[\"communication\"]:\n",
    "    print(str(comp.keys()))"
   ]
  },
  {
   "cell_type": "code",
   "execution_count": 16,
   "metadata": {},
   "outputs": [
    {
     "data": {
      "text/plain": [
       "{'ml': [{'YOROSIS Technologies': 'Coimbatore, Tamil Nadu'},\n",
       "  [{'Mallow Technologies': 'Coimbatore, Tamil Nadu'}],\n",
       "  [{'Bosch Group': 'Coimbatore, Tamil Nadu'}]],\n",
       " 'ai': [{'YOROSIS Technologies': 'Coimbatore, Tamil Nadu'},\n",
       "  [{'Mallow Technologies': 'Coimbatore, Tamil Nadu'}],\n",
       "  [{'Bosch Group': 'Coimbatore, Tamil Nadu'}]],\n",
       " 'engineer': [{'YOROSIS Technologies': 'Coimbatore, Tamil Nadu'},\n",
       "  [{'Unusual Hire': 'Coimbatore, Tamil Nadu'}]],\n",
       " 'ml ai': [{'YOROSIS Technologies': 'Coimbatore, Tamil Nadu'}],\n",
       " 'ai engineer': [{'YOROSIS Technologies': 'Coimbatore, Tamil Nadu'}],\n",
       " 'ml ai engineer': [{'YOROSIS Technologies': 'Coimbatore, Tamil Nadu'}],\n",
       " 'data': [{'Mallow Technologies': 'Coimbatore, Tamil Nadu'},\n",
       "  [{'Sharadha Terry Products Private Limited': 'Coimbatore, Tamil Nadu'}]],\n",
       " 'analyst': [{'Mallow Technologies': 'Coimbatore, Tamil Nadu'}],\n",
       " 'data analyst': [{'Mallow Technologies': 'Coimbatore, Tamil Nadu'}],\n",
       " 'analyst ai': [{'Mallow Technologies': 'Coimbatore, Tamil Nadu'}],\n",
       " 'ai ml': [{'Mallow Technologies': 'Coimbatore, Tamil Nadu'},\n",
       "  [{'Bosch Group': 'Coimbatore, Tamil Nadu'}]],\n",
       " 'data analyst ai': [{'Mallow Technologies': 'Coimbatore, Tamil Nadu'}],\n",
       " 'analyst ai ml': [{'Mallow Technologies': 'Coimbatore, Tamil Nadu'}],\n",
       " 'developers': [{'Bosch Group': 'Coimbatore, Tamil Nadu'}],\n",
       " 'interior': [{'Bosch Group': 'Coimbatore, Tamil Nadu'}],\n",
       " 'monitoring': [{'Bosch Group': 'Coimbatore, Tamil Nadu'}],\n",
       " 'systems': [{'Bosch Group': 'Coimbatore, Tamil Nadu'}],\n",
       " 'product': [{'Bosch Group': 'Coimbatore, Tamil Nadu'}],\n",
       " 'ml developers': [{'Bosch Group': 'Coimbatore, Tamil Nadu'}],\n",
       " 'developers interior': [{'Bosch Group': 'Coimbatore, Tamil Nadu'}],\n",
       " 'interior monitoring': [{'Bosch Group': 'Coimbatore, Tamil Nadu'}],\n",
       " 'monitoring systems': [{'Bosch Group': 'Coimbatore, Tamil Nadu'}],\n",
       " 'systems product': [{'Bosch Group': 'Coimbatore, Tamil Nadu'}],\n",
       " 'ai ml developers': [{'Bosch Group': 'Coimbatore, Tamil Nadu'}],\n",
       " 'ml developers interior': [{'Bosch Group': 'Coimbatore, Tamil Nadu'}],\n",
       " 'developers interior monitoring': [{'Bosch Group': 'Coimbatore, Tamil Nadu'}],\n",
       " 'interior monitoring systems': [{'Bosch Group': 'Coimbatore, Tamil Nadu'}],\n",
       " 'monitoring systems product': [{'Bosch Group': 'Coimbatore, Tamil Nadu'}],\n",
       " 'solution': [{'Ultrafly Solutions private limited': 'Coimbatore, Tamil Nadu'},\n",
       "  [{'Ultrafly solutions Pvt Ltd': 'Coimbatore, Tamil Nadu'}]],\n",
       " 'architect': [{'Ultrafly Solutions private limited': 'Coimbatore, Tamil Nadu'},\n",
       "  [{'Ultrafly solutions Pvt Ltd': 'Coimbatore, Tamil Nadu'}]],\n",
       " 'solution architect': [{'Ultrafly Solutions private limited': 'Coimbatore, Tamil Nadu'},\n",
       "  [{'Ultrafly solutions Pvt Ltd': 'Coimbatore, Tamil Nadu'}]],\n",
       " 'sr': [{'Sharadha Terry Products Private Limited': 'Coimbatore, Tamil Nadu'}],\n",
       " 'analytics': [{'Sharadha Terry Products Private Limited': 'Coimbatore, Tamil Nadu'}],\n",
       " 'sr data': [{'Sharadha Terry Products Private Limited': 'Coimbatore, Tamil Nadu'}],\n",
       " 'data analytics': [{'Sharadha Terry Products Private Limited': 'Coimbatore, Tamil Nadu'}],\n",
       " 'sr data analytics': [{'Sharadha Terry Products Private Limited': 'Coimbatore, Tamil Nadu'}],\n",
       " 'digital': [{'VMax Wellness': 'Coimbatore, Tamil Nadu'}],\n",
       " 'marketing': [{'VMax Wellness': 'Coimbatore, Tamil Nadu'}],\n",
       " 'executive': [{'VMax Wellness': 'Coimbatore, Tamil Nadu'}],\n",
       " 'digital marketing': [{'VMax Wellness': 'Coimbatore, Tamil Nadu'}],\n",
       " 'marketing executive': [{'VMax Wellness': 'Coimbatore, Tamil Nadu'}],\n",
       " 'digital marketing executive': [{'VMax Wellness': 'Coimbatore, Tamil Nadu'}],\n",
       " 'sw': [{'Unusual Hire': 'Coimbatore, Tamil Nadu'}],\n",
       " 'autosar': [{'Unusual Hire': 'Coimbatore, Tamil Nadu'}],\n",
       " 'architecture': [{'Unusual Hire': 'Coimbatore, Tamil Nadu'}],\n",
       " 'sw engineer': [{'Unusual Hire': 'Coimbatore, Tamil Nadu'}],\n",
       " 'engineer autosar': [{'Unusual Hire': 'Coimbatore, Tamil Nadu'}],\n",
       " 'autosar architecture': [{'Unusual Hire': 'Coimbatore, Tamil Nadu'}],\n",
       " 'sw engineer autosar': [{'Unusual Hire': 'Coimbatore, Tamil Nadu'}],\n",
       " 'engineer autosar architecture': [{'Unusual Hire': 'Coimbatore, Tamil Nadu'}]}"
      ]
     },
     "execution_count": 16,
     "metadata": {},
     "output_type": "execute_result"
    }
   ],
   "source": [
    "title_dict"
   ]
  },
  {
   "cell_type": "code",
   "execution_count": 16,
   "metadata": {},
   "outputs": [
    {
     "name": "stdout",
     "output_type": "stream",
     "text": [
      "The jobs with Computer Vision skills in Coimbatore are YOROSIS Technologies\n"
     ]
    }
   ],
   "source": [
    "try:\n",
    "    print(f\"The {job_title} jobs in {location} are {match_location(job_title, location, title_dict)}\")\n",
    "except:\n",
    "    print(f\"The jobs with {job_title} skills in {location} are {match_location(job_title, location, skill_dict)}\")"
   ]
  },
  {
   "cell_type": "code",
   "execution_count": 3,
   "metadata": {},
   "outputs": [],
   "source": [
    "def diagflow(inp):\n",
    "    job_title, location, skills =  '', '', ''\n",
    "    DIALOG_FLOW_PROJECT_ID = \"tribal-archery-386911\"\n",
    "    DIALOGFLOW_LANGUAGE_CODE = \"en\"\n",
    "    os.environ[\"GOOGLE_APPLICATION_CREDENTIALS\"] = 'private_key.json'\n",
    "    text_input = dialogflow.TextInput(text=inp, language_code=DIALOGFLOW_LANGUAGE_CODE)\n",
    "    SESSION_ID = 'me'\n",
    "    session_client = dialogflow.SessionsClient()\n",
    "    session = session_client.session_path(DIALOG_FLOW_PROJECT_ID, SESSION_ID)\n",
    "    query_input = dialogflow.QueryInput(text=text_input)\n",
    "    try:\n",
    "      response = session_client.detect_intent(request={\"session\": session, \"query_input\": query_input})\n",
    "    except InvalidArgument:\n",
    "      raise\n",
    "    for entity in response.query_result.parameters:\n",
    "      if entity == \"jobtitle\":\n",
    "        job_title = response.query_result.parameters[entity]\n",
    "      if entity == \"location\":\n",
    "        location = response.query_result.parameters[entity]\n",
    "    if job_title == \"\":\n",
    "        for entitity in response.query_result.parameters:\n",
    "            if entitity == \"skills\":\n",
    "                skills = response.query_result.parameters[entitity]\n",
    "    return job_title, location, skills\n"
   ]
  },
  {
   "cell_type": "code",
   "execution_count": 11,
   "metadata": {},
   "outputs": [
    {
     "data": {
      "text/plain": [
       "'AI Engineer'"
      ]
     },
     "execution_count": 11,
     "metadata": {},
     "output_type": "execute_result"
    }
   ],
   "source": [
    "job_title"
   ]
  },
  {
   "cell_type": "code",
   "execution_count": 5,
   "metadata": {},
   "outputs": [],
   "source": [
    "from n_gram import skill_dict, title_dict, get_company\n",
    "from n_gram import *"
   ]
  },
  {
   "cell_type": "code",
   "execution_count": 13,
   "metadata": {},
   "outputs": [
    {
     "data": {
      "text/plain": [
       "[{'YOROSIS Technologies': 'Coimbatore, Tamil Nadu'}]"
      ]
     },
     "execution_count": 13,
     "metadata": {},
     "output_type": "execute_result"
    }
   ],
   "source": [
    "title_dict[\"ai engineer\"]"
   ]
  },
  {
   "cell_type": "code",
   "execution_count": 4,
   "metadata": {},
   "outputs": [],
   "source": [
    "job_title, location, skills = diagflow(\"What are the ai jobs in coimbatore?\")\n",
    "if job_title and location != '':\n",
    "    try:\n",
    "        response = f\"The {job_title} jobs in {location} are available at {match_location(job_title, location, title_dict)}\"\n",
    "    except:\n",
    "        response = f\"The jobs with {job_title} skills in {location} are available at {match_location(job_title, location, skill_dict)}\"\n",
    "elif job_title == '' and skills == '':\n",
    "    response = \"Sorry request cannot be fulfilled\"\n",
    "elif job_title == '' and location == '' and skills != '':\n",
    "    response = f\"The companies that need {skills} skills are {set([(next(iter(company.keys()))) for company in get_company(skills, skill_dict)])}\"\n",
    "elif job_title == '' and (skills != '' and location != ''):\n",
    "    response = f\"The companies that need {skills} skills are {set([(next(iter(company.keys()))) for company in get_company(skills, skill_dict)])} and are located at {set([(next(iter(company.values()))) for company in get_company(skills, skill_dict)])}\"\n",
    "else:\n",
    "    response = f\"The {job_title} jobs are available at {get_company(job_title, title_dict)}\""
   ]
  },
  {
   "cell_type": "code",
   "execution_count": 5,
   "metadata": {},
   "outputs": [
    {
     "data": {
      "text/plain": [
       "'The AI Engineer jobs in Coimbatore are available at YOROSIS Technologies'"
      ]
     },
     "execution_count": 5,
     "metadata": {},
     "output_type": "execute_result"
    }
   ],
   "source": [
    "response"
   ]
  },
  {
   "cell_type": "code",
   "execution_count": 20,
   "metadata": {},
   "outputs": [
    {
     "data": {
      "text/plain": [
       "[{'YOROSIS Technologies': 'Coimbatore, Tamil Nadu'}]"
      ]
     },
     "execution_count": 20,
     "metadata": {},
     "output_type": "execute_result"
    }
   ],
   "source": [
    "skill_dict[\"computer vision\"]"
   ]
  },
  {
   "cell_type": "code",
   "execution_count": 19,
   "metadata": {},
   "outputs": [
    {
     "name": "stdout",
     "output_type": "stream",
     "text": [
      "The companies that need ['communication'] skills are {'Ultrafly Solutions private limited', 'Mallow Technologies', 'VMax Wellness', 'Unusual Hire', 'Sharadha Terry Products Private Limited'} and are located at {'Coimbatore, Tamil Nadu'}\n"
     ]
    }
   ],
   "source": [
    "print(response)"
   ]
  },
  {
   "cell_type": "code",
   "execution_count": 13,
   "metadata": {},
   "outputs": [
    {
     "name": "stdout",
     "output_type": "stream",
     "text": [
      "['communication']\n"
     ]
    }
   ],
   "source": [
    "print(skills)"
   ]
  },
  {
   "cell_type": "code",
   "execution_count": 15,
   "metadata": {},
   "outputs": [
    {
     "data": {
      "text/plain": [
       "{'Mallow Technologies',\n",
       " 'Sharadha Terry Products Private Limited',\n",
       " 'Ultrafly Solutions private limited',\n",
       " 'Unusual Hire',\n",
       " 'VMax Wellness'}"
      ]
     },
     "execution_count": 15,
     "metadata": {},
     "output_type": "execute_result"
    }
   ],
   "source": [
    "set([(next(iter(company.keys()))) for company in get_company(skills, skill_dict)])"
   ]
  },
  {
   "cell_type": "code",
   "execution_count": null,
   "metadata": {},
   "outputs": [],
   "source": []
  }
 ],
 "metadata": {
  "kernelspec": {
   "display_name": "Python 3",
   "language": "python",
   "name": "python3"
  },
  "language_info": {
   "codemirror_mode": {
    "name": "ipython",
    "version": 3
   },
   "file_extension": ".py",
   "mimetype": "text/x-python",
   "name": "python",
   "nbconvert_exporter": "python",
   "pygments_lexer": "ipython3",
   "version": "3.11.2"
  },
  "orig_nbformat": 4
 },
 "nbformat": 4,
 "nbformat_minor": 2
}
