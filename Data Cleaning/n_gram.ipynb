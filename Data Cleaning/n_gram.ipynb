{
 "cells": [
  {
   "cell_type": "code",
   "execution_count": 152,
   "metadata": {},
   "outputs": [],
   "source": [
    "import pandas as pd\n",
    "import numpy as np\n",
    "from itertools import chain\n",
    "from collections import defaultdict\n",
    "import re\n",
    "import nltk"
   ]
  },
  {
   "cell_type": "code",
   "execution_count": 153,
   "metadata": {},
   "outputs": [],
   "source": [
    "df = pd.read_csv(\"final_df.csv\")"
   ]
  },
  {
   "cell_type": "code",
   "execution_count": 155,
   "metadata": {},
   "outputs": [],
   "source": [
    "def find_ngram_frequency(text, n):\n",
    "    ngram_counts = defaultdict(int)\n",
    "    text = re.sub(r'[^\\w\\s]','',text.lower())\n",
    "    words = text.split()\n",
    "    for i in range(len(words)-n+1):\n",
    "        ngram = ' '.join(words[i:i+n])\n",
    "        ngram_counts[ngram] += 1\n",
    "    return ngram_counts"
   ]
  },
  {
   "cell_type": "code",
   "execution_count": 156,
   "metadata": {},
   "outputs": [],
   "source": [
    "def clean_text(skills):\n",
    "    i = 0\n",
    "    for skill in skills:\n",
    "        if skill.startswith(\"\\'\") and skill.endswith(\"\\'\"):\n",
    "            skills[i] = skill[1:-1]\n",
    "        elif skill.startswith(\"\\'\") and not(skill.endswith(\"\\'\")):\n",
    "            skills[i] = skill[1:]\n",
    "        elif not(skill.startswith(\"\\'\")) and skill.endswith(\"\\'\"):\n",
    "            skills[i] = skill[:-1]\n",
    "        else:\n",
    "            skills[i] = skill\n",
    "        i += 1\n",
    "    return skills"
   ]
  },
  {
   "cell_type": "code",
   "execution_count": 157,
   "metadata": {},
   "outputs": [],
   "source": [
    "df1 = df.copy()"
   ]
  },
  {
   "cell_type": "code",
   "execution_count": 158,
   "metadata": {},
   "outputs": [],
   "source": [
    "def find_ngram(text, gram):\n",
    "    dirty_skills = text.strip('][').split(', ')\n",
    "    skills = []\n",
    "    for skill in dirty_skills:\n",
    "        skills.append(skill)\n",
    "    clean_skills = clean_text(skills)\n",
    "    clean_skills = \" \".join(clean_skills)\n",
    "    clean_skills = re.sub(r'[^\\w\\s]','',clean_skills.lower())\n",
    "    words = nltk.word_tokenize(clean_skills)\n",
    "    return list(nltk.ngrams(words, gram))"
   ]
  },
  {
   "cell_type": "code",
   "execution_count": 159,
   "metadata": {},
   "outputs": [],
   "source": [
    "from nltk.corpus import stopwords\n",
    "stopwords = stopwords.words('english')\n",
    "stopwords.extend([\"knowledge\", \"good\", \"experience\", \"understanding\", \"developing\", \"strong\"])"
   ]
  },
  {
   "cell_type": "code",
   "execution_count": 161,
   "metadata": {},
   "outputs": [],
   "source": [
    "n_grams = {}\n",
    "for index, row in df.iterrows():\n",
    "    dirty_skills = row[\"SKILLS\"].strip('][').split(', ')\n",
    "    # print(dirty_skills)\n",
    "    skills = []\n",
    "    for skill in dirty_skills:\n",
    "        skills.append(skill)\n",
    "    clean_skills = clean_text(skills)\n",
    "    # print(clean_skills)\n",
    "    cleaned_text = \" \".join(clean_skills)\n",
    "    # print(cleaned_text)\n",
    "    words = nltk.word_tokenize(cleaned_text)\n",
    "    wordsFiltered = []\n",
    "    for w in words:\n",
    "        if w not in stopwords:\n",
    "            wordsFiltered.append(w)\n",
    "    uni_grams = list(nltk.ngrams(wordsFiltered, 1))\n",
    "    for gram in uni_grams:\n",
    "        gram1 = \" \".join(gram)\n",
    "        if gram1 not in n_grams:\n",
    "            n_grams[gram1] = [row[\"COMPANY_NAME\"]]\n",
    "        else:\n",
    "            n_grams[gram1].append(row[\"COMPANY_NAME\"])\n",
    "    bi_grams = list(nltk.ngrams(wordsFiltered, 2))\n",
    "    for gram in bi_grams:\n",
    "        gram1 = \" \".join(gram)\n",
    "        if gram1 not in n_grams:\n",
    "            n_grams[gram1] = [row[\"COMPANY_NAME\"]]\n",
    "        else:\n",
    "            n_grams[gram1].append(row[\"COMPANY_NAME\"])\n",
    "    tri_grams = list(nltk.ngrams(wordsFiltered, 3))\n",
    "    for gram in bi_grams:\n",
    "        gram1 = \" \".join(gram)\n",
    "        if gram1 not in n_grams:\n",
    "            n_grams[gram1] = [row[\"COMPANY_NAME\"]]\n",
    "        else:\n",
    "            n_grams[gram1].append(row[\"COMPANY_NAME\"])\n"
   ]
  },
  {
   "cell_type": "code",
   "execution_count": 162,
   "metadata": {},
   "outputs": [
    {
     "data": {
      "text/plain": [
       "{'Bosch Group',\n",
       " 'Mallow Technologies',\n",
       " 'Sharadha Terry Products Private Limited',\n",
       " 'Ultrafly Solutions private limited',\n",
       " 'Ultrafly solutions Pvt Ltd'}"
      ]
     },
     "execution_count": 162,
     "metadata": {},
     "output_type": "execute_result"
    }
   ],
   "source": []
  }
 ],
 "metadata": {
  "kernelspec": {
   "display_name": "midlar",
   "language": "python",
   "name": "python3"
  },
  "language_info": {
   "codemirror_mode": {
    "name": "ipython",
    "version": 3
   },
   "file_extension": ".py",
   "mimetype": "text/x-python",
   "name": "python",
   "nbconvert_exporter": "python",
   "pygments_lexer": "ipython3",
   "version": "3.11.2"
  },
  "orig_nbformat": 4
 },
 "nbformat": 4,
 "nbformat_minor": 2
}
